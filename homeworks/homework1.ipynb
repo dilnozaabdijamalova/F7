{
 "cells": [
  {
   "cell_type": "code",
   "execution_count": 4,
   "metadata": {},
   "outputs": [
    {
     "name": "stdout",
     "output_type": "stream",
     "text": [
      "Jms\n",
      "Jms\n",
      "Jms\n"
     ]
    }
   ],
   "source": [
    "#  ---------------- 1 A   -------------\n",
    "import math        \n",
    "str1 = 'Jhamens'\n",
    "\n",
    "# 1\n",
    "print( str1[0 :: math.floor(len(str1)/2) ] )\n",
    "\n",
    "#2\n",
    "print( str1[0 :: int(len(str1)/2) ] )\n",
    "\n",
    "#3\n",
    "fl = math.floor(len(str1)/2)\n",
    "print( str1[0 :: fl ] )\n",
    "\n"
   ]
  },
  {
   "cell_type": "code",
   "execution_count": 1,
   "metadata": {},
   "outputs": [
    {
     "name": "stdout",
     "output_type": "stream",
     "text": [
      "Dip\n"
     ]
    }
   ],
   "source": [
    "# ------------- 1B --------------\n",
    "import math        \n",
    "str1 = 'JhonnnDipPejtau'\n",
    "fl = math.floor(len(str1)/2)\n",
    "\n",
    "print( str1[ fl-1 : fl+2 ] )"
   ]
  },
  {
   "cell_type": "code",
   "execution_count": 3,
   "metadata": {},
   "outputs": [
    {
     "name": "stdout",
     "output_type": "stream",
     "text": [
      "AuKellylt\n"
     ]
    }
   ],
   "source": [
    "# --------------- 2 --------------\n",
    "import math \n",
    "s1 = \"Ault\"\n",
    "s2 = \"Kelly\"\n",
    "fl = math.floor(len(s1)/2)\n",
    "s3 = s1[ :fl ]\n",
    "s3 = s3 + s2\n",
    "s3 = s3 + s1[ fl: ]\n",
    "\n",
    "print(s3)"
   ]
  },
  {
   "cell_type": "code",
   "execution_count": 2,
   "metadata": {},
   "outputs": [
    {
     "name": "stdout",
     "output_type": "stream",
     "text": [
      "AJrpan\n"
     ]
    }
   ],
   "source": [
    "# ------------- 3 ----------------\n",
    "import math \n",
    "s1 = \"America\"\n",
    "s2 = \"Japan\"\n",
    "fl1 = math.floor(len(s1)/2)\n",
    "fl2 = math.floor(len(s2)/2)\n",
    "s3 = s1[0] + s2[0]\n",
    "s3 = s3 + s1[fl1] + s2[fl2]\n",
    "s3 = s3 + s1[-1] + s2[-1]\n",
    "\n",
    "print(s3)"
   ]
  },
  {
   "cell_type": "code",
   "execution_count": 4,
   "metadata": {},
   "outputs": [
    {
     "name": "stdout",
     "output_type": "stream",
     "text": [
      "yaivePNT\n"
     ]
    }
   ],
   "source": [
    "# -------------- 4 ----------------\n",
    "\n",
    "str1= \"PyNaTive\"\n",
    "\n",
    "def arrange_string(s):\n",
    "    lower = []\n",
    "    upper = []\n",
    "    \n",
    "    index = 0\n",
    "    while index < len(s):\n",
    "        char = s[index]\n",
    "        if char.islower():\n",
    "            lower.append(char)\n",
    "        elif char.isupper():\n",
    "            upper.append(char)\n",
    "        index += 1\n",
    "\n",
    "    \n",
    "    arranged_string = ''.join(lower + upper)\n",
    "    return arranged_string\n",
    "\n",
    "\n",
    "result = arrange_string(str1)\n",
    "print(result)  \n",
    "\n",
    "\n"
   ]
  },
  {
   "cell_type": "code",
   "execution_count": 7,
   "metadata": {},
   "outputs": [
    {
     "name": "stdout",
     "output_type": "stream",
     "text": [
      "Berilgan matn ' P@#yn26at^&i5ve ' da jami:\n",
      "8  ta harf, 3  ta son  va  4  ta belgi bor.\n"
     ]
    }
   ],
   "source": [
    "# -------------- 5 ----------------\n",
    "str1= \"P@#yn26at^&i5ve\"\n",
    "alphaa = 0\n",
    "digit = 0 \n",
    "symbol = 0\n",
    "   \n",
    "index = 0\n",
    "while index < len(str1):\n",
    "        char = str1[index]\n",
    "        if char.isalpha():\n",
    "            alphaa+=1\n",
    "        elif char.isdigit():\n",
    "           digit+=1\n",
    "        else: symbol+=1\n",
    "        index += 1\n",
    "\n",
    "print(\"Berilgan matn '\", str1 , \"' da jami:\")\n",
    "print(alphaa, \" ta harf,\",  digit, ' ta son  va ', symbol, ' ta belgi bor.', )  \n"
   ]
  },
  {
   "cell_type": "code",
   "execution_count": 8,
   "metadata": {},
   "outputs": [
    {
     "name": "stdout",
     "output_type": "stream",
     "text": [
      "AfbysghXzd\n"
     ]
    }
   ],
   "source": [
    "# -------------- 6 ----------------\n",
    "s1='Absgh'\n",
    "s2 = 'Xyzdf'\n",
    "s3 = s1[0] + s2[-1]\n",
    "s3 = s3 + s1[1] + s2[1]\n",
    "s3 = s3 + s1[2:] + s2[0] + s2[2:-1]\n",
    "\n",
    "print(s3)"
   ]
  },
  {
   "cell_type": "code",
   "execution_count": 40,
   "metadata": {},
   "outputs": [
    {
     "name": "stdout",
     "output_type": "stream",
     "text": [
      "Number of \"USA\" in the given text is:  2\n"
     ]
    }
   ],
   "source": [
    "# -------------- 8 ----------------\n",
    "str1 = \"Welcome to USA. usa awesome, isn't it?\"\n",
    "\n",
    "numberOfUSA = str1.upper().count('USA')\n",
    "print('Number of \"USA\" in the given text is: ',numberOfUSA)\n"
   ]
  },
  {
   "cell_type": "code",
   "execution_count": 38,
   "metadata": {},
   "outputs": [
    {
     "name": "stdout",
     "output_type": "stream",
     "text": [
      "Sonlar yig'indisi =  38\n",
      "O'rtacha qiymat  =   6.333333333333333\n"
     ]
    }
   ],
   "source": [
    "# -------------- 9 ----------------\n",
    "str1 = \"PYnative29@#8496\"\n",
    "sum = 0\n",
    "counter = 0\n",
    "index = 0\n",
    " \n",
    "while index<len(str1):\n",
    "    char = str1[index]\n",
    "    if char.isdigit():\n",
    "        counter+=1\n",
    "        sum += int(str1[index])         \n",
    "    index+=1\n",
    "\n",
    "print(\"Sonlar yig'indisi = \", sum)\n",
    "print(\"O'rtacha qiymat  =  \", sum/counter)\n",
    "\n",
    "            "
   ]
  },
  {
   "cell_type": "code",
   "execution_count": 5,
   "metadata": {},
   "outputs": [
    {
     "name": "stdout",
     "output_type": "stream",
     "text": [
      "1-usul\n",
      "natija:  {'a': 1 ,  'p': 2 ,  'l': 3 ,  'e': 2 }\n",
      "\n",
      "2-usul\n",
      "natija:  {'A': 1, 'p': 2, 'l': 3, 'E': 1, 'e': 1, '/': 1}\n"
     ]
    }
   ],
   "source": [
    "# ------------------- 10 -------------------\n",
    "\n",
    "str1 = \"ApplllEe/\"\n",
    "\n",
    "# ------------------- 1- usul -------------------\n",
    "# berilgan harflarning stringdagi sonini aniqlash uchun. Qulay tomoni qaysi belgini sanash kerakligini belgilay olamiz, \n",
    "#  upper va lower caseni ignore qila olamiz\n",
    "a = str1.lower().count('a')\n",
    "p = str1.lower().count('p')\n",
    "l = str1.lower().count('l')\n",
    "e = str1.lower().count('e')\n",
    "print('1-usul')\n",
    "print( \"natija:  {'a':\",a, \",  'p':\",p,\",  'l':\",l,\",  'e':\", e ,'}')\n",
    "\n",
    "\n",
    "# ------------------- 2- usul -------------------\n",
    "char = dict()\n",
    "# matnda bor barcha harflarni avtomatik chiqarib beradi. Qulay tomoni kod qisqa\n",
    "for i in str1:\n",
    "    count = str1.count(i)\n",
    "    char[i]= count\n",
    " \n",
    "print('\\n2-usul')\n",
    "print('natija: ', char)"
   ]
  },
  {
   "cell_type": "code",
   "execution_count": 1,
   "metadata": {},
   "outputs": [
    {
     "name": "stdout",
     "output_type": "stream",
     "text": [
      "1-usul\n",
      "evitanYP\n",
      "\n",
      "2-usul\n",
      "evitanYP\n",
      "\n",
      "3-usul\n",
      "evitanYP\n"
     ]
    }
   ],
   "source": [
    "# ------------------- 11 -------------------\n",
    "str2 = \"PYnative\"\n",
    "\n",
    " #------------------- 1 -------------------\n",
    "print('1-usul')\n",
    "rev = []\n",
    "index = 0\n",
    "r = -1\n",
    "while index<len(str2):\n",
    "     char = str2[r]\n",
    "     rev.append(char)\n",
    "     r-=1\n",
    "     index+=1\n",
    "s2 = ''.join(rev)\n",
    "\n",
    "\n",
    "print(s2)\n",
    "\n",
    " #------------------- 2 -------------------\n",
    "print('\\n2-usul')\n",
    "index = 0\n",
    "r = -1\n",
    "while index<len(str2):\n",
    "     char = str2[r]\n",
    "     print(char, end=\"\")\n",
    "     r-=1\n",
    "     index+=1\n",
    "\n",
    " #------------------- 3 -------------------\n",
    "print('\\n\\n3-usul')\n",
    "\n",
    "rev = ''.join(reversed(str2))\n",
    "print(rev)\n",
    "\n",
    "    "
   ]
  }
 ],
 "metadata": {
  "kernelspec": {
   "display_name": "Python 3",
   "language": "python",
   "name": "python3"
  },
  "language_info": {
   "codemirror_mode": {
    "name": "ipython",
    "version": 3
   },
   "file_extension": ".py",
   "mimetype": "text/x-python",
   "name": "python",
   "nbconvert_exporter": "python",
   "pygments_lexer": "ipython3",
   "version": "3.12.4"
  }
 },
 "nbformat": 4,
 "nbformat_minor": 2
}
