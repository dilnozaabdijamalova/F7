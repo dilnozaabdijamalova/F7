{
 "cells": [
  {
   "cell_type": "code",
   "execution_count": 43,
   "metadata": {},
   "outputs": [
    {
     "name": "stdout",
     "output_type": "stream",
     "text": [
      "ZeroDivisionError: Don't enter zero for second argument,please try again!\n"
     ]
    }
   ],
   "source": [
    "#1 ZeroDivisionError\n",
    "try:\n",
    "    def division(a:int, b:int):\n",
    "        res = int(a/b)\n",
    "        return res\n",
    "  \n",
    "    a = division(20,0)\n",
    "    print(a)\n",
    "except ZeroDivisionError :\n",
    "    print('ZeroDivisionError: Don\\'t enter zero for second argument,please try again!')"
   ]
  },
  {
   "cell_type": "code",
   "execution_count": 42,
   "metadata": {},
   "outputs": [
    {
     "name": "stdout",
     "output_type": "stream",
     "text": [
      "TypeError: Expected 2 integer, instead of given string\n"
     ]
    }
   ],
   "source": [
    "#2 TypeError\n",
    "try:\n",
    "    def type_error_example (number1:int, number2:int):\n",
    "        res = number1 - number2\n",
    "        return res\n",
    "\n",
    "    result = type_error_example('5',5)\n",
    "    print(result)\n",
    "except TypeError :\n",
    "     print('TypeError: Expected 2 integer, instead of given string')"
   ]
  },
  {
   "cell_type": "code",
   "execution_count": 41,
   "metadata": {},
   "outputs": [
    {
     "name": "stdout",
     "output_type": "stream",
     "text": [
      "IndexError: List index out of range\n"
     ]
    }
   ],
   "source": [
    "#3 IndexError\n",
    "try:\n",
    "    def index_error_example(list1:list):\n",
    "        #index xatoligini chiqarish uchun list indexiga list uzunligini berdim, chunki len har doim indexdan 1 ga ko'p\n",
    "        print(list1[len(list1)])\n",
    "    l=[1,2,3,4]\n",
    "    index_error_example(l)\n",
    "except IndexError:\n",
    "    print('IndexError: List index out of range')"
   ]
  },
  {
   "cell_type": "code",
   "execution_count": 40,
   "metadata": {},
   "outputs": [
    {
     "name": "stdout",
     "output_type": "stream",
     "text": [
      "ValueError: Value is not integer, please, try again!\n"
     ]
    }
   ],
   "source": [
    "#4  KeyboardInterrupt VS ValueError\n",
    "try:\n",
    "    def key_board_interrupt_example(a):\n",
    "        return pow(a,2)\n",
    "    a=int(input('son kiriting: '))\n",
    "    key_board_interrupt_example(a)\n",
    "\n",
    "# works if user stopped input window\n",
    "except KeyboardInterrupt:\n",
    "    print('KeyboardInterrupt: Input not entered, please, try again!')\n",
    "#works when user entered wrong value\n",
    "except ValueError:\n",
    "    print('ValueError: Value is not integer, please, try again!')"
   ]
  },
  {
   "cell_type": "code",
   "execution_count": 38,
   "metadata": {},
   "outputs": [
    {
     "name": "stdout",
     "output_type": "stream",
     "text": [
      "ArithmeticError: wrong value given for calculate\n"
     ]
    }
   ],
   "source": [
    "#5\n",
    "try:\n",
    "    def arifmeticErrorExample (num1:int, num2:int,num3:int):\n",
    "        return (num1/num2/num3)\n",
    "    result = arifmeticErrorExample(12,4,0)\n",
    "    print(result)\n",
    "except ArithmeticError:\n",
    "    print('ArithmeticError: wrong value given for calculate')"
   ]
  }
 ],
 "metadata": {
  "kernelspec": {
   "display_name": "Python 3",
   "language": "python",
   "name": "python3"
  },
  "language_info": {
   "codemirror_mode": {
    "name": "ipython",
    "version": 3
   },
   "file_extension": ".py",
   "mimetype": "text/x-python",
   "name": "python",
   "nbconvert_exporter": "python",
   "pygments_lexer": "ipython3",
   "version": "3.12.4"
  }
 },
 "nbformat": 4,
 "nbformat_minor": 2
}
