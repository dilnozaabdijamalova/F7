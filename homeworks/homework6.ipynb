{
 "cells": [
  {
   "cell_type": "code",
   "execution_count": null,
   "metadata": {},
   "outputs": [],
   "source": [
    "ls = [('A', 5), ('A', -3), ('B', 2), ('C', 3), ('A', -2), ('C', -2)]\n",
    "res = {}\n",
    "\n",
    "for key, value in ls:\n",
    "    if key in res:\n",
    "        res[key] += value\n",
    "    else:\n",
    "        res[key] = value\n",
    "\n",
    "print(res)\n"
   ]
  },
  {
   "cell_type": "code",
   "execution_count": 1,
   "metadata": {},
   "outputs": [
    {
     "name": "stdout",
     "output_type": "stream",
     "text": [
      "[0, 2, 1]\n"
     ]
    }
   ],
   "source": [
    "def match_capital():\n",
    "    ls = [('A', 5), ('A', -3), ('B', 2), ('C', 3), ('A', -2), ('C', -2)]\n",
    "    res = []\n",
    "    sumA = 0\n",
    "    sumB = 0\n",
    "    sumC = 0\n",
    "    for key, value in ls:\n",
    "        if key=='A':\n",
    "            sumA+=value\n",
    "        if key=='B':\n",
    "            sumB+=value\n",
    "        if key == 'C':\n",
    "            sumC +=value\n",
    "    \n",
    "    res.append(sumA)\n",
    "    res.append(sumB)\n",
    "    res.append(sumC)\n",
    "    return res\n",
    "\n",
    "res = match_capital()\n",
    "\n",
    "print(res)        \n"
   ]
  },
  {
   "cell_type": "code",
   "execution_count": 9,
   "metadata": {},
   "outputs": [
    {
     "name": "stdout",
     "output_type": "stream",
     "text": [
      "abc_abc_dab_cde_abc_df\n"
     ]
    }
   ],
   "source": [
    "#1- qadam har 3 tadan _ qo'yish\n",
    "txt= 'abcabcdabcdeabcdf'\n",
    "\n",
    "s = list(txt)\n",
    "i=0\n",
    "counter=0\n",
    "\n",
    "while i<len(s):    \n",
    "    if counter ==3:\n",
    "        s.insert(i,'_')\n",
    "        i+=1\n",
    "        counter = 0\n",
    "       \n",
    "    counter+=1 \n",
    "    i+=1\n",
    "\n",
    "print(''.join(s))"
   ]
  },
  {
   "cell_type": "code",
   "execution_count": 13,
   "metadata": {},
   "outputs": [
    {
     "name": "stdout",
     "output_type": "stream",
     "text": [
      "abc_abc_dab_cdeab_cdf\n"
     ]
    }
   ],
   "source": [
    "\"\"\"  1. create a new \"txt\" by adding the underscore (_) after every 3 letters but \n",
    "if a letter is a vowel or a letter that comes with an underscore before,\n",
    " you need to skip it and add \"_\" after the next letter and if letter is last character of \"txt\", just skip it again\n",
    "    \"\"\" \n",
    "#2- qadam har 3 tadan _ qo'yish va vowelga tekshirish\n",
    "\n",
    "txt= 'abcabcdabcdeabcdf'\n",
    "\n",
    "def add_underscore(txt):\n",
    "    s = list(txt)\n",
    "    i=0\n",
    "    counter=0\n",
    "    while i<len(s):    \n",
    "        if counter ==3:\n",
    "            if s[i-1] =='e' or s[i-1] == 'o' or s[i-1] == 'a' or s[i-1] == 'u' or s[i-1] == 'i':\n",
    "                i+=1\n",
    "                continue\n",
    "            s.insert(i,'_')\n",
    "            i+=1\n",
    "            counter = 0\n",
    "       \n",
    "        counter+=1 \n",
    "        i+=1\n",
    "    print(''.join(s))\n",
    "\n",
    "add_underscore(txt)\n"
   ]
  },
  {
   "cell_type": "code",
   "execution_count": 113,
   "metadata": {},
   "outputs": [
    {
     "name": "stdout",
     "output_type": "stream",
     "text": [
      "abc_abcd_abcdeab_cdf\n"
     ]
    }
   ],
   "source": [
    "#3- qadam har 3 tadan _ qo'yish va vowelga tekshirish va ishlatilgan harflarni belgilab olish\n",
    "txt= 'abcabcdabcdeabcdf'\n",
    "\n",
    "s = list(txt)\n",
    "i=0\n",
    "counter=0\n",
    "reserv = []\n",
    "while i<len(s):\n",
    "    \n",
    "    if counter ==3:\n",
    "        if s[i-1] =='e' or s[i-1] == 'o' or s[i-1] == 'a' or s[i-1] == 'u' or s[i-1] == 'i':\n",
    "            i+=1\n",
    "            continue\n",
    "        if s[i-1] in reserv:\n",
    "            i+=1\n",
    "            continue\n",
    "        reserv.append(s[i-1])\n",
    "        s.insert(i,'_')\n",
    "\n",
    "        i+=1\n",
    "        counter = 0\n",
    "       \n",
    "    counter+=1 \n",
    "    i+=1\n",
    "   \n",
    "print(''.join(s))"
   ]
  },
  {
   "cell_type": "code",
   "execution_count": 114,
   "metadata": {},
   "outputs": [
    {
     "name": "stdout",
     "output_type": "stream",
     "text": [
      "abc_abcd_abcdeab_cdf\n"
     ]
    }
   ],
   "source": [
    "# commentlar bilan qadamlarni tushuntirish \n",
    "txt= 'abcabcdabcdeabcdf'\n",
    "\n",
    "s = list(txt)\n",
    "# i - indexlash uchun  \n",
    "i=0\n",
    "# counter - 3 ta charni belgilash uchun \n",
    "counter=0\n",
    "# ishlatilgan harflarni saqlash uchun \n",
    "reserv = []\n",
    "\n",
    "while i<len(s):\n",
    "    # agar 3 belgi bo'lgan bo'sa if ichiga kiradi  \n",
    "    if counter ==3:\n",
    "        if s[i-1] =='e' or s[i-1] == 'o' or s[i-1] == 'a' or s[i-1] == 'u' or s[i-1] == 'i':\n",
    "            i+=1\n",
    "            continue\n",
    "        # agar reserv listda bor bo'lsa o'tkazib yubor\n",
    "        if s[i-1] in reserv:\n",
    "            i+=1\n",
    "            continue\n",
    "        #qaysi harfdan keyin _ qo'yganini belgilab olish joyi \n",
    "        reserv.append(s[i-1])\n",
    "        #bu esa _ kiritish joyi\n",
    "        s.insert(i,'_')\n",
    "\n",
    "        \n",
    "        i+=1\n",
    "        # counter 3 ga yetgach 0 ga tenglanadi , keyingi 3 ta charni sanash uchun\n",
    "        counter = 0\n",
    "       \n",
    "    counter+=1 \n",
    "    i+=1\n",
    "    \n",
    "print(''.join(s))"
   ]
  },
  {
   "cell_type": "code",
   "execution_count": 12,
   "metadata": {},
   "outputs": [
    {
     "name": "stdout",
     "output_type": "stream",
     "text": [
      "abc_abcd_abcdeab_cdf_s\n",
      "454_5645_656_34\n"
     ]
    }
   ],
   "source": [
    "#funksiya ichiga olish\n",
    "def addUnderscore(txt):\n",
    "    s = list(txt)\n",
    "    i=0\n",
    "    counter=0\n",
    "    vowels_reserv = ['a', 'o', 'i', 'u', 'e']\n",
    "\n",
    "    while i<len(s):\n",
    "        if counter ==3:\n",
    "            if s[i-1] in vowels_reserv:\n",
    "                i+=1\n",
    "                continue\n",
    "            vowels_reserv.append(s[i-1])\n",
    "            s.insert(i,'_')\n",
    "            i+=1\n",
    "            counter = 0\n",
    "       \n",
    "        counter+=1 \n",
    "        i+=1\n",
    "    \n",
    "    print(''.join(s))\n",
    "\n",
    "addUnderscore('abcabcdabcdeabcdfs')\n",
    "addUnderscore('454564565634')"
   ]
  }
 ],
 "metadata": {
  "kernelspec": {
   "display_name": "Python 3",
   "language": "python",
   "name": "python3"
  },
  "language_info": {
   "codemirror_mode": {
    "name": "ipython",
    "version": 3
   },
   "file_extension": ".py",
   "mimetype": "text/x-python",
   "name": "python",
   "nbconvert_exporter": "python",
   "pygments_lexer": "ipython3",
   "version": "3.12.4"
  }
 },
 "nbformat": 4,
 "nbformat_minor": 2
}
