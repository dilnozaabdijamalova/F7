{
 "cells": [
  {
   "cell_type": "markdown",
   "metadata": {},
   "source": [
    "Exercism examples"
   ]
  },
  {
   "cell_type": "code",
   "execution_count": 2,
   "metadata": {},
   "outputs": [
    {
     "data": {
      "text/plain": [
       "106.25"
      ]
     },
     "execution_count": 2,
     "metadata": {},
     "output_type": "execute_result"
    }
   ],
   "source": [
    "##############  CURRENcY EXCHANGE   1\n",
    "\n",
    "def exchange_money(budget, exchange_rate):\n",
    "    return budget / exchange_rate\n",
    "\n",
    "res = exchange_money(127.5, 1.2)\n",
    "res"
   ]
  },
  {
   "cell_type": "code",
   "execution_count": 7,
   "metadata": {},
   "outputs": [
    {
     "data": {
      "text/plain": [
       "'not enough money'"
      ]
     },
     "execution_count": 7,
     "metadata": {},
     "output_type": "execute_result"
    }
   ],
   "source": [
    "##############  2\n",
    "budget = 150\n",
    "exchanging_value = 127.5\n",
    "\n",
    "def get_change(budget, exchanging_value):\n",
    "    if budget>=exchanging_value:\n",
    "        return budget-exchanging_value\n",
    "    else: return \"not enough money\"\n",
    "\n",
    "a = get_change(10, 127.5)\n",
    "a\n"
   ]
  },
  {
   "cell_type": "code",
   "execution_count": 10,
   "metadata": {},
   "outputs": [
    {
     "data": {
      "text/plain": [
       "640"
      ]
     },
     "execution_count": 10,
     "metadata": {},
     "output_type": "execute_result"
    }
   ],
   "source": [
    "##############  3\n",
    "def get_value_of_bills(denomination, number_of_bills ):\n",
    "    return denomination*number_of_bills \n",
    "res = get_value_of_bills(5,128)\n",
    "res\n"
   ]
  },
  {
   "cell_type": "code",
   "execution_count": 33,
   "metadata": {},
   "outputs": [
    {
     "data": {
      "text/plain": [
       "25"
      ]
     },
     "execution_count": 33,
     "metadata": {},
     "output_type": "execute_result"
    }
   ],
   "source": [
    "##############  4\n",
    "def get_number_of_bills(amount , denomination):\n",
    "    return int(amount//denomination)\n",
    "\n",
    "a= get_number_of_bills(127.5,5)\n",
    "a\n"
   ]
  },
  {
   "cell_type": "code",
   "execution_count": 16,
   "metadata": {},
   "outputs": [
    {
     "data": {
      "text/plain": [
       "7.5"
      ]
     },
     "execution_count": 16,
     "metadata": {},
     "output_type": "execute_result"
    }
   ],
   "source": [
    "##############  5\n",
    "def get_leftover_of_bills(amount , denomination):\n",
    "    return amount % denomination\n",
    "    \n",
    "a= get_leftover_of_bills(127.5,20)\n",
    "a\n"
   ]
  },
  {
   "cell_type": "code",
   "execution_count": 53,
   "metadata": {},
   "outputs": [
    {
     "name": "stdout",
     "output_type": "stream",
     "text": [
      "4017094016600\n"
     ]
    }
   ],
   "source": [
    "##############  6\n",
    "\n",
    "def exchangeable_value2(budget, exchange_rate, spread, denomination):\n",
    "\n",
    "    exchange_rate = float(exchange_rate + exchange_rate*spread/100)\n",
    "    amount = budget/exchange_rate\n",
    "    number_of_bill =  amount//denomination\n",
    "    return  int(number_of_bill*denomination )\n",
    "\n",
    "a = exchangeable_value2(470000, 0.00000009, 30, 700)\n",
    "print(a)"
   ]
  },
  {
   "cell_type": "code",
   "execution_count": 6,
   "metadata": {},
   "outputs": [
    {
     "name": "stdout",
     "output_type": "stream",
     "text": [
      "95\n"
     ]
    }
   ],
   "source": [
    "def exchangeable_value1(budget, exchange_rate, spread, denomination):\n",
    "    # Step 1: Convert spread percentage to a decimal\n",
    "    spread_decimal = spread / 1.0\n",
    "    \n",
    "    # Step 2: Adjust the exchange rate by adding the spread value\n",
    "    adjusted_exchange_rate = exchange_rate + exchange_rate/spread_decimal\n",
    "    \n",
    "    # Step 3: Calculate the total value in the new currency\n",
    "    exchanged_value = budget / adjusted_exchange_rate\n",
    "    \n",
    "    # Step 4: Return the maximum value in the target denomination (rounded down)\n",
    "    return int(exchanged_value // denomination) * denomination\n",
    "\n",
    "\n",
    "\n",
    "a = exchangeable_value1(127.25, 1.20, 10, 5)\n",
    "print(a)\n"
   ]
  },
  {
   "cell_type": "code",
   "execution_count": 18,
   "metadata": {},
   "outputs": [
    {
     "name": "stdout",
     "output_type": "stream",
     "text": [
      "5053763440600\n"
     ]
    }
   ],
   "source": [
    "##############  6\n",
    "\n",
    "def exchangeable_value(budget, exchange_rate, spread:int, denomination):\n",
    "\n",
    " \n",
    "    return  int(budget/((exchange_rate + exchange_rate/spread)*denomination))*denomination \n",
    "\n",
    "a = exchangeable_value(470000, 0.00000009, 30, 700)\n",
    "print(a)"
   ]
  },
  {
   "cell_type": "markdown",
   "metadata": {},
   "source": [
    "int(budget//((exchange_rate + exchange_rate/spread)*denomination))*denomination "
   ]
  },
  {
   "cell_type": "code",
   "execution_count": 17,
   "metadata": {},
   "outputs": [
    {
     "data": {
      "text/plain": [
       "'#8076a3'"
      ]
     },
     "execution_count": 17,
     "metadata": {},
     "output_type": "execute_result"
    }
   ],
   "source": [
    "palette_I = {'Grassy Green': 'NA', 'Purple Mountains Majesty': '#8076a3', 'Misty Mountain Pink': '#f9c5bd'}\n",
    "palette_I.setdefault('Rock Brown', '#694605')\n",
    "palette_I.setdefault('Grassy Green', '#9bc400')\n",
    "palette_I['Rock Brown']\n",
    "palette_I.get('Purple Mountains Majesty', 'not found')"
   ]
  },
  {
   "cell_type": "code",
   "execution_count": 22,
   "metadata": {},
   "outputs": [
    {
     "data": {
      "text/plain": [
       "{'Banana': 5, 'Apple': 2, 'Orange': 2, 'Blueberries': 1}"
      ]
     },
     "execution_count": 22,
     "metadata": {},
     "output_type": "execute_result"
    }
   ],
   "source": [
    "#######################     Mecha Munch Management\n",
    "\n",
    "def add_item(current_cart:dict, items_to_add:tuple):\n",
    "    \"\"\"Add items to shopping cart.\n",
    "\n",
    "    :param current_cart: dict - the current shopping cart.\n",
    "    :param items_to_add: iterable - items to add to the cart.\n",
    "    :return: dict - the updated user cart dictionary.\n",
    "    \"\"\"\n",
    "    # for item  in items_to_add:\n",
    "    #     current_cart.get(item, 5)\n",
    "   \n",
    "    for item in items_to_add:\n",
    "        if item in current_cart:\n",
    "            current_cart[item] += 1\n",
    "        else:\n",
    "            current_cart[item] = 1\n",
    "    return current_cart\n",
    "\n",
    "    \n",
    "\n",
    "dict1 = add_item({'Banana': 3, 'Apple': 2, 'Orange': 1},\n",
    "              ['Banana', 'Orange', 'Blueberries', 'Banana'])\n",
    "\n",
    "dict1"
   ]
  }
 ],
 "metadata": {
  "kernelspec": {
   "display_name": "Python 3",
   "language": "python",
   "name": "python3"
  },
  "language_info": {
   "codemirror_mode": {
    "name": "ipython",
    "version": 3
   },
   "file_extension": ".py",
   "mimetype": "text/x-python",
   "name": "python",
   "nbconvert_exporter": "python",
   "pygments_lexer": "ipython3",
   "version": "3.12.4"
  }
 },
 "nbformat": 4,
 "nbformat_minor": 2
}
