{
 "cells": [
  {
   "cell_type": "code",
   "execution_count": 3,
   "metadata": {},
   "outputs": [
    {
     "name": "stdout",
     "output_type": "stream",
     "text": [
      "1505, 1540, 1575, 1610, 1645, 1680, 1715, 1750, 1785, 1820, 1855, 1890, 1925, 1960, 1995, 2030, 2065, 2100, 2135, 2170, 2205, 2240, 2275, 2310, 2345, 2380, 2415, 2450, 2485, 2520, 2555, 2590, 2625, 2660, 2695, "
     ]
    }
   ],
   "source": [
    "#1\n",
    "for i in range(1500, 2701):\n",
    "    if i%7==0 and i%5==0:\n",
    "        print(i, end = ', ')"
   ]
  },
  {
   "cell_type": "code",
   "execution_count": 1,
   "metadata": {},
   "outputs": [
    {
     "name": "stdout",
     "output_type": "stream",
     "text": [
      " 40° Celsius 104° Fahrenheitga teng\n"
     ]
    }
   ],
   "source": [
    "#2\n",
    "number=int(input('daraja:'))\n",
    "birlik = input(\"qaysi birlikda:  C yoki F \")\n",
    "res = 0\n",
    "\n",
    "if birlik == 'F' or birlik == 'f':\n",
    "    res = int((number-32)*(5/9))\n",
    "    print(f\" {number}° Fahrenheit {res}° Celsiusga teng\") \n",
    "     \n",
    "elif birlik == 'C' or birlik == 'c':\n",
    "    res = int((9/5)*number + 32)\n",
    "    print(f\" {number}° Celsius {res}° Fahrenheitga teng\")\n",
    "else: \n",
    "    print('Noto\\'g\\'ri birlik kiritilgan') \n",
    "\n",
    "   "
   ]
  },
  {
   "cell_type": "code",
   "execution_count": 33,
   "metadata": {},
   "outputs": [
    {
     "name": "stdout",
     "output_type": "stream",
     "text": [
      "Congratulation!! Well guessed!\n",
      "7\n"
     ]
    }
   ],
   "source": [
    "#3\n",
    "import random\n",
    "rand_int = random.randint(1, 10) \n",
    "num = int(input(\"Enter a number 1 to 10: \"))\n",
    "while num!=rand_int:\n",
    "    num = int(input(\"Wrong!! Enter a number 1 to 10: \"))\n",
    "print(\"Congratulation!! Well guessed!\")\n",
    "print(rand_int)"
   ]
  },
  {
   "cell_type": "code",
   "execution_count": 49,
   "metadata": {},
   "outputs": [
    {
     "name": "stdout",
     "output_type": "stream",
     "text": [
      "\n",
      "* \n",
      "* * \n",
      "* * * \n",
      "* * * * \n",
      "* * * * * \n",
      "* * * * * * \n",
      "* * * * * \n",
      "* * * * \n",
      "* * * \n",
      "* * \n",
      "* \n"
     ]
    }
   ],
   "source": [
    "#4\n",
    "n=int(input('Enter a number: '))\n",
    "for i in range(2*n):\n",
    "    if i<=n:\n",
    "        print('* '*i)\n",
    "    if i>n:\n",
    "        print('* '*(2*n-i))"
   ]
  },
  {
   "cell_type": "code",
   "execution_count": 2,
   "metadata": {},
   "outputs": [
    {
     "name": "stdout",
     "output_type": "stream",
     "text": [
      "molas\n"
     ]
    }
   ],
   "source": [
    "#5\n",
    "word = input('Enter a word: ')\n",
    "l= len(word)\n",
    "reversed = ''\n",
    "\n",
    "for i in range(0,l):\n",
    "    reversed+=word[l-i-1]\n",
    "print(reversed)"
   ]
  },
  {
   "cell_type": "code",
   "execution_count": 4,
   "metadata": {},
   "outputs": [
    {
     "name": "stdout",
     "output_type": "stream",
     "text": [
      "Number of odd numbers is 5\n",
      "Number of even numbers is 4\n"
     ]
    }
   ],
   "source": [
    "#6\n",
    "given_list =[2,3,4,5,6,7,8,9,10]\n",
    "odd_counter=0\n",
    "even_counter=0\n",
    "\n",
    "for i in given_list:\n",
    "    if i%2==0:\n",
    "        odd_counter+=1\n",
    "    else: even_counter+=1\n",
    "print(f'Number of odd numbers is {odd_counter}')\n",
    "print(f'Number of even numbers is {even_counter}')"
   ]
  },
  {
   "cell_type": "code",
   "execution_count": 5,
   "metadata": {},
   "outputs": [
    {
     "name": "stdout",
     "output_type": "stream",
     "text": [
      "Type of 1452 is <class 'int'>\n",
      "Type of 11.23 is <class 'float'>\n",
      "Type of (1+2j) is <class 'complex'>\n",
      "Type of True is <class 'bool'>\n",
      "Type of w3resource is <class 'str'>\n",
      "Type of (0, -1) is <class 'tuple'>\n",
      "Type of [5, 12] is <class 'list'>\n",
      "Type of {'class': 'V', 'section': 'A'} is <class 'dict'>\n"
     ]
    }
   ],
   "source": [
    "#7\n",
    "datalist = [1452, 11.23, 1+2j, True, 'w3resource', (0, -1), [5, 12], {\"class\":'V', \"section\":'A'}]\n",
    "\n",
    "for element in datalist:\n",
    "    print(f'Type of {element} is {type(element)}')"
   ]
  },
  {
   "cell_type": "code",
   "execution_count": 4,
   "metadata": {},
   "outputs": [
    {
     "name": "stdout",
     "output_type": "stream",
     "text": [
      "0\n",
      "1\n",
      "2\n",
      "4\n",
      "5\n"
     ]
    }
   ],
   "source": [
    "#8\n",
    "l=[print(i) for i in range(0,6) if i!=3 and i!=6]"
   ]
  },
  {
   "cell_type": "code",
   "execution_count": 53,
   "metadata": {},
   "outputs": [
    {
     "name": "stdout",
     "output_type": "stream",
     "text": [
      "\n",
      "--------   #1  ----------\n",
      "\n",
      "0 \n",
      "1\n",
      "1 \n",
      "2\n",
      "3 \n",
      "5\n",
      "8 \n",
      "13\n",
      "21 \n",
      "34\n",
      "\n",
      "--------   #2   ----------\n",
      "\n",
      "1\n",
      "1\n",
      "2\n",
      "3\n",
      "5\n",
      "8\n",
      "13\n",
      "21\n",
      "34\n"
     ]
    }
   ],
   "source": [
    "#9\n",
    "#--------------   2    --------------\n",
    "print('\\n--------   #1  ----------\\n')\n",
    "\n",
    "n=0\n",
    "i=1\n",
    "while(i<=50):\n",
    "    print(f'{n} \\n{i}')\n",
    "    n=i+n\n",
    "    i=i+n      \n",
    "\n",
    "#--------------   2    --------------\n",
    "print('\\n--------   #2   ----------\\n')\n",
    "\n",
    "x, y = 0, 1\n",
    "while y < 50:\n",
    "    print(y)\n",
    "    x, y = y, x + y "
   ]
  },
  {
   "cell_type": "code",
   "execution_count": 57,
   "metadata": {},
   "outputs": [
    {
     "name": "stdout",
     "output_type": "stream",
     "text": [
      "1\n",
      "2\n",
      "Fizz\n",
      "4\n",
      "Buzz\n",
      "Fizz\n",
      "7\n",
      "8\n",
      "Fizz\n",
      "Buzz\n",
      "11\n",
      "Fizz\n",
      "13\n",
      "14\n",
      "FizzBuzz\n",
      "16\n",
      "17\n",
      "Fizz\n",
      "19\n",
      "Buzz\n",
      "Fizz\n",
      "22\n",
      "23\n",
      "Fizz\n",
      "Buzz\n",
      "26\n",
      "Fizz\n",
      "28\n",
      "29\n",
      "FizzBuzz\n",
      "31\n",
      "32\n",
      "Fizz\n",
      "34\n",
      "Buzz\n",
      "Fizz\n",
      "37\n",
      "38\n",
      "Fizz\n",
      "Buzz\n",
      "41\n",
      "Fizz\n",
      "43\n",
      "44\n",
      "FizzBuzz\n",
      "46\n",
      "47\n",
      "Fizz\n",
      "49\n"
     ]
    }
   ],
   "source": [
    "#10\n",
    "for i in range(1,50):\n",
    "    if i%15==0:\n",
    "        print('FizzBuzz')\n",
    "        continue\n",
    "    elif i%5==0:\n",
    "        print('Buzz')\n",
    "        continue\n",
    "    elif i%3==0:\n",
    "        print('Fizz')\n",
    "        continue\n",
    "    else: \n",
    "        print(i)\n",
    "\n",
    "    "
   ]
  },
  {
   "cell_type": "code",
   "execution_count": 92,
   "metadata": {},
   "outputs": [
    {
     "name": "stdout",
     "output_type": "stream",
     "text": [
      "[0, 0, 0]\n",
      "[0, 1, 2]\n",
      "[0, 2, 4]\n",
      "[0, 3, 6]\n",
      "[0, 4, 8]\n",
      "[0, 5, 10]\n",
      "[0, 6, 12]\n",
      "[0, 7, 14]\n",
      "[0, 8, 16]\n",
      "[0, 9, 18]\n"
     ]
    }
   ],
   "source": [
    "#11   solutionni ko'rib, sal o'zgarish qildim\n",
    "row=int(input(\"row = \"))\n",
    "col=int(input(\"column = \"))\n",
    "\n",
    "l = [[0 for col in range(col)]  for row in range(row)]\n",
    "\n",
    "for rowi in range(row):\n",
    "    for coli in range(col):\n",
    "        l[rowi][coli] = rowi * coli\n",
    "    print(l[rowi])\n",
    "\n",
    "\n"
   ]
  },
  {
   "cell_type": "code",
   "execution_count": 95,
   "metadata": {},
   "outputs": [
    {
     "name": "stdout",
     "output_type": "stream",
     "text": [
      "SALOM\n",
      "         MEN\n",
      "             DILNOZA\n"
     ]
    }
   ],
   "source": [
    "#12\n",
    "lines = []\n",
    "\n",
    "\n",
    "while True:\n",
    "    l = input()\n",
    "    if l:\n",
    "        lines.append(l.upper())\n",
    "    else:\n",
    "        break;\n",
    "\n",
    "for l in lines:\n",
    "    print(l) \n"
   ]
  },
  {
   "cell_type": "code",
   "execution_count": 141,
   "metadata": {},
   "outputs": [
    {
     "name": "stdout",
     "output_type": "stream",
     "text": [
      "0000,0101,1010\n"
     ]
    }
   ],
   "source": [
    "#13 solutionni ko'rib tushundim\n",
    "items = []\n",
    "\n",
    "num = [x for x in input().split(',')]\n",
    "\n",
    "for p in num:\n",
    "    #  ikkilik son qiymatidagi stringni 10 likka o'tkazib beradigan qator\n",
    "    x = int(p, 12)\n",
    "    \n",
    "    # qoldiq qolsa false, qolmasa true qaytarishini ta'minlovchi qator \n",
    "    if not x % 5:\n",
    "        items.append(p)\n",
    "\n",
    "print(','.join(items))"
   ]
  },
  {
   "cell_type": "code",
   "execution_count": 1,
   "metadata": {},
   "outputs": [
    {
     "name": "stdout",
     "output_type": "stream",
     "text": [
      " \"salom12131\" so'zida 5 ta harf va 5 ta raqam mavjud.\n"
     ]
    }
   ],
   "source": [
    "#14\n",
    "word = input('Matn kiriting')\n",
    "\n",
    "def digit_letter_counter(word:str):\n",
    "    digits=0\n",
    "    letters =0\n",
    " \n",
    "    for b in word:\n",
    "        if  b.isdigit():\n",
    "            digits+=1\n",
    "        elif  b.isalpha():\n",
    "            letters+=1\n",
    "    print(f' \"{word}\" so\\'zida {letters} ta harf va {digits} ta raqam mavjud.')\n",
    "\n",
    "digit_letter_counter(word=word)\n"
   ]
  },
  {
   "cell_type": "code",
   "execution_count": 27,
   "metadata": {},
   "outputs": [
    {
     "name": "stdout",
     "output_type": "stream",
     "text": [
      "Password need to include at least 1 number between [0-9]. \n"
     ]
    }
   ],
   "source": [
    "#15\n",
    "lowerAlphabet = ['a', 'b', 'c', 'd', 'e', 'f', 'g', 'h', 'i', 'j', 'k', 'l', 'm', 'n', 'o', 'p', 'q', 'r', 's', 't', 'u', 'v', 'w', 'x', 'y', 'z']\n",
    "upperAlphabet = ['A', 'B', 'C', 'D', 'E', 'F', 'G', 'H', 'I', 'J', 'K', 'L', 'M', 'N', 'O', 'P', 'Q', 'R', 'S', 'T', 'U', 'V', 'W', 'X', 'Y', 'Z']\n",
    "charList = ['$','#','@']\n",
    "\n",
    "lowCounter = 0\n",
    "upCounter = 0\n",
    "charCounter = 0\n",
    "numCounter = 0\n",
    "  \n",
    "password = input('Please enter your password ...')\n",
    "\n",
    "if len(password)<6:\n",
    "    print('Your password too short, plese try again!') \n",
    "elif len(password)>16:\n",
    "    print('Your password too long, please try again!')\n",
    "else :\n",
    "    for char in password:\n",
    "        if char  in lowerAlphabet:\n",
    "            lowCounter+=1\n",
    "        elif char  in upperAlphabet:\n",
    "            upCounter+=1\n",
    "        elif char in charList:\n",
    "            charCounter+=1\n",
    "        elif char.isalpha:\n",
    "            numCounter+=1\n",
    "\n",
    "if lowCounter==0:\n",
    "    print('Password need to include at least 1 letter between [a-z] ')\n",
    "elif upCounter==0:\n",
    "    print('Password need to include at least 1 letter between [A-Z] ')\n",
    "elif charCounter==0:\n",
    "    print('Password need to include at least 1 char between [$,#,@]. ')\n",
    "elif numCounter==0:\n",
    "    print('Password need to include at least 1 number between [0-9]. ')\n",
    "else: \n",
    "    print('Passport validate succesfully!!')\n"
   ]
  },
  {
   "cell_type": "code",
   "execution_count": 23,
   "metadata": {},
   "outputs": [
    {
     "name": "stdout",
     "output_type": "stream",
     "text": [
      "Not a Valid Password\n"
     ]
    }
   ],
   "source": [
    "#this is a sample  answer from W3Resourse\n",
    "import re\n",
    "\n",
    "# Prompt the user to input a password and store it in the variable 'p'\n",
    "p = input(\"Input your password\")\n",
    "\n",
    "# Set 'x' to True to enter the while loop\n",
    "x = True\n",
    "\n",
    "# Start a while loop that continues until 'x' is True\n",
    "while x:  \n",
    "    # Check conditions for a valid password:\n",
    "    # Password length should be between 6 and 12 characters\n",
    "    if (len(p) < 6 or len(p) > 12):\n",
    "        break\n",
    "    # Password should contain at least one lowercase letter\n",
    "    elif not re.search(\"[a-z]\", p):\n",
    "        break\n",
    "    # Password should contain at least one digit\n",
    "    elif not re.search(\"[0-9]\", p):\n",
    "        break\n",
    "    # Password should contain at least one uppercase letter\n",
    "    elif not re.search(\"[A-Z]\", p):\n",
    "        break\n",
    "    # Password should contain at least one special character among '$', '#', '@'\n",
    "    elif not re.search(\"[$#@]\", p):\n",
    "        break\n",
    "    # Password should not contain any whitespace character\n",
    "    # elif re.search(\"\\s\", p):\n",
    "        # break\n",
    "    else:\n",
    "        # If all conditions are met, print \"Valid Password\" and set 'x' to False to exit the loop\n",
    "        print(\"Valid Password\")\n",
    "        x = False\n",
    "        break\n",
    "\n",
    "# If 'x' remains True, print \"Not a Valid Password\"\n",
    "if x:\n",
    "    print(\"Not a Valid Password\")"
   ]
  },
  {
   "cell_type": "code",
   "execution_count": 2,
   "metadata": {},
   "outputs": [
    {
     "name": "stdout",
     "output_type": "stream",
     "text": [
      "[200, 202, 204, 206, 208, 220, 222, 224, 226, 228, 240, 242, 244, 246, 248, 260, 262, 264, 266, 268, 280, 282, 284, 286, 288, 400]\n"
     ]
    }
   ],
   "source": [
    "#16 This is my way \n",
    "evenDigitList = []\n",
    "digit=0\n",
    "\n",
    "for num in range(100,401):\n",
    "    res = num\n",
    "    isBool = True\n",
    "\n",
    "    while res % 2 ==0 and isBool ==True:\n",
    "        res = int(res/10)\n",
    "        if res<10 and res%2==0:\n",
    "            isBool=False\n",
    "   \n",
    "    if isBool == False:\n",
    "        evenDigitList.append(num)\n",
    "        \n",
    "print(evenDigitList)"
   ]
  },
  {
   "cell_type": "code",
   "execution_count": 58,
   "metadata": {},
   "outputs": [
    {
     "name": "stdout",
     "output_type": "stream",
     "text": [
      "200, 202, 204, 206, 208, 220, 222, 224, 226, 228, 240, 242, 244, 246, 248, 260, 262, 264, 266, 268, 280, 282, 284, 286, 288, 400\n"
     ]
    }
   ],
   "source": [
    "#this is W3resourse's way\n",
    "def is_even_digit(num):\n",
    "    \"\"\"Check if all digits in the number are even.\"\"\"\n",
    "    return all(int(digit) % 2 == 0 for digit in str(num))\n",
    "\n",
    "# List to store even-digit numbers\n",
    "even_digit_numbers = []\n",
    "\n",
    "for number in range(100, 401):\n",
    "    if is_even_digit(number):\n",
    "        even_digit_numbers.append(str(number))\n",
    "\n",
    "result = ', '.join(even_digit_numbers)\n",
    "print(result)\n"
   ]
  },
  {
   "cell_type": "code",
   "execution_count": 59,
   "metadata": {},
   "outputs": [
    {
     "name": "stdout",
     "output_type": "stream",
     "text": [
      "200, 202, 204, 206, 208, 220, 222, 224, 226, 228, 240, 242, 244, 246, 248, 260, 262, 264, 266, 268, 280, 282, 284, 286, 288, 400\n"
     ]
    }
   ],
   "source": [
    "even_digit_numbers = []\n",
    "\n",
    "\n",
    "for number in range(100, 401):\n",
    "    if all(int(digit) % 2 == 0 for digit in str(number)):\n",
    "        even_digit_numbers.append(str(number))\n",
    "\n",
    "# Join the numbers with a comma and print\n",
    "result = ', '.join(even_digit_numbers)\n",
    "print(result)"
   ]
  }
 ],
 "metadata": {
  "kernelspec": {
   "display_name": "Python 3",
   "language": "python",
   "name": "python3"
  },
  "language_info": {
   "codemirror_mode": {
    "name": "ipython",
    "version": 3
   },
   "file_extension": ".py",
   "mimetype": "text/x-python",
   "name": "python",
   "nbconvert_exporter": "python",
   "pygments_lexer": "ipython3",
   "version": "3.12.4"
  }
 },
 "nbformat": 4,
 "nbformat_minor": 2
}
