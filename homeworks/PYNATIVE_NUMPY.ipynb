{
 "cells": [
  {
   "cell_type": "markdown",
   "metadata": {},
   "source": [
    "pyNative NumPy examples"
   ]
  },
  {
   "cell_type": "code",
   "execution_count": null,
   "metadata": {},
   "outputs": [],
   "source": [
    "import numpy as np "
   ]
  },
  {
   "cell_type": "code",
   "execution_count": 32,
   "metadata": {},
   "outputs": [
    {
     "name": "stdout",
     "output_type": "stream",
     "text": [
      "[[2 3]\n",
      " [6 5]\n",
      " [8 7]\n",
      " [0 8]]\n",
      "Array shape is:  (4, 2)\n",
      "Array dimensions are:  2\n",
      "Length of each element of array in bytes:  2\n"
     ]
    }
   ],
   "source": [
    "#Exercise 1: Create a 4X2 integer array and Prints its attributes\n",
    "\n",
    "l1 = [2,3,6,5,8,7,0,8]\n",
    "arr = np.array(l1)\n",
    "arr = arr.reshape(4,2)\n",
    "arr = np.array(arr, dtype = 'int16')\n",
    "\n",
    "print(arr)\n",
    "print('Array shape is: ', arr.shape)\n",
    "print('Array dimensions are: ', arr.ndim)\n",
    "print('Length of each element of array in bytes: ', arr.itemsize)"
   ]
  },
  {
   "cell_type": "code",
   "execution_count": null,
   "metadata": {},
   "outputs": [
    {
     "name": "stdout",
     "output_type": "stream",
     "text": [
      "[[100 110]\n",
      " [120 130]\n",
      " [140 150]\n",
      " [160 170]\n",
      " [180 190]]\n"
     ]
    }
   ],
   "source": [
    "#Exercise 2: Create a 5X2 integer array from a range between 100 to 200 \n",
    "# such that the difference between each element is 10\n",
    "\n",
    "arr1 = np.arange(100,200,10).reshape(5,2)\n",
    "\n",
    "print(arr1)\n"
   ]
  },
  {
   "cell_type": "code",
   "execution_count": 72,
   "metadata": {},
   "outputs": [
    {
     "name": "stdout",
     "output_type": "stream",
     "text": [
      "[[11 22 33]\n",
      " [44 55 66]\n",
      " [77 88 99]]\n",
      "3-th column elements: \n",
      "[33 66 99]\n"
     ]
    }
   ],
   "source": [
    "#Exercise 3: Following is the provided numPy array. Return array of items\n",
    "#  by taking the third column from all rows\n",
    "\n",
    "sampleArray = np.array([[11 ,22, 33], [44, 55, 66], [77, 88, 99]])\n",
    "print(sampleArray)\n",
    "print('3-th column elements: ')\n",
    "sampleArray = sampleArray[...,2]\n",
    "print(sampleArray)\n"
   ]
  },
  {
   "cell_type": "code",
   "execution_count": 82,
   "metadata": {},
   "outputs": [
    {
     "name": "stdout",
     "output_type": "stream",
     "text": [
      "[[ 3  6  9 12]\n",
      " [15 18 21 24]\n",
      " [27 30 33 36]\n",
      " [39 42 45 48]\n",
      " [51 54 57 60]]\n",
      "\n",
      " new arraw which consisting of odd rows and even columns: \n",
      "[[ 6 12]\n",
      " [30 36]\n",
      " [54 60]]\n"
     ]
    }
   ],
   "source": [
    "#Exercise 4: Return array of odd rows and even columns from below numpy array\n",
    "\n",
    "sampleArray = np.array([[3 ,6, 9, 12], [15 ,18, 21, 24], \n",
    "[27 ,30, 33, 36], [39 ,42, 45, 48], [51 ,54, 57, 60]])\n",
    "print(sampleArray)\n",
    "\n",
    "print(\"\\n new arraw which consisting of odd rows and even columns: \")\n",
    "arr2 = sampleArray[::2, 1::2]\n",
    "print(arr2)\n",
    "\n"
   ]
  },
  {
   "cell_type": "code",
   "execution_count": 85,
   "metadata": {},
   "outputs": [
    {
     "name": "stdout",
     "output_type": "stream",
     "text": [
      "Addition of 2 arrays is:\n",
      "[[20 39 33]\n",
      " [25 25 28]]\n",
      "Kvadrati:\n",
      "[[ 400 1521 1089]\n",
      " [ 625  625  784]]\n"
     ]
    }
   ],
   "source": [
    "# Exercise 5: Create a result array by adding the following two NumPy arrays. \n",
    "# Next, modify the result array by calculating the square of each element\n",
    "\n",
    "arrayOne = np.array([[5, 6, 9], [21 ,18, 27]])\n",
    "arrayTwo = np.array([[15 ,33, 24], [4 ,7, 1]])\n",
    "newArr = arrayOne+ arrayTwo\n",
    "print('Addition of 2 arrays is:')\n",
    "print(newArr)\n",
    "print('Kvadrati:')\n",
    "resArr = newArr**2\n",
    "print(resArr)\n",
    "\n"
   ]
  },
  {
   "cell_type": "code",
   "execution_count": 92,
   "metadata": {},
   "outputs": [
    {
     "name": "stdout",
     "output_type": "stream",
     "text": [
      "[[10 11 12]\n",
      " [13 14 15]\n",
      " [16 17 18]\n",
      " [19 20 21]\n",
      " [22 23 24]\n",
      " [25 26 27]\n",
      " [28 29 30]\n",
      " [31 32 33]]\n",
      "\n",
      "[array([[10, 11, 12],\n",
      "       [13, 14, 15]]), array([[16, 17, 18],\n",
      "       [19, 20, 21]]), array([[22, 23, 24],\n",
      "       [25, 26, 27]]), array([[28, 29, 30],\n",
      "       [31, 32, 33]])]\n"
     ]
    }
   ],
   "source": [
    "#Exercise 6: Split the array into four equal-sized sub-arrays\n",
    "arr3 = np.arange(10,34,1).reshape(8,3)\n",
    "print(arr3)\n",
    "print()\n",
    "arr4 = np.split(arr3,4)\n",
    "print(arr4)\n",
    "\n",
    "\n",
    "\n"
   ]
  }
 ],
 "metadata": {
  "kernelspec": {
   "display_name": "Python 3",
   "language": "python",
   "name": "python3"
  },
  "language_info": {
   "codemirror_mode": {
    "name": "ipython",
    "version": 3
   },
   "file_extension": ".py",
   "mimetype": "text/x-python",
   "name": "python",
   "nbconvert_exporter": "python",
   "pygments_lexer": "ipython3",
   "version": "3.12.4"
  }
 },
 "nbformat": 4,
 "nbformat_minor": 2
}
