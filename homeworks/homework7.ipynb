{
 "cells": [
  {
   "cell_type": "code",
   "execution_count": null,
   "metadata": {},
   "outputs": [],
   "source": [
    "# 1\n",
    "def greetings():\n",
    "    print('Hello happy world')\n",
    "\n",
    "greetings()"
   ]
  },
  {
   "cell_type": "code",
   "execution_count": null,
   "metadata": {},
   "outputs": [],
   "source": [
    "# 2\n",
    "def Greeting2():\n",
    "    name= input('name please')\n",
    "    print(f'Hello {name}')\n",
    "  \n",
    "\n",
    "Greeting2()\n",
    "\n"
   ]
  },
  {
   "cell_type": "code",
   "execution_count": null,
   "metadata": {},
   "outputs": [],
   "source": [
    "#3\n",
    "\n",
    "def my_len():\n",
    "    wordd= str(input('Enter a word or words'))\n",
    "    print(f'Siz kiritgan so\\'z \"{wordd}\" uzunligi: ', len(wordd))\n",
    "\n",
    "my_len()\n"
   ]
  },
  {
   "cell_type": "code",
   "execution_count": null,
   "metadata": {},
   "outputs": [],
   "source": [
    "#4\n",
    "def sum_list(list):\n",
    "    print('List elementlari yig\\'indisi: ',sum(list), ' ga teng.')\n",
    "\n",
    "list1=[1,2,3,4,8]\n",
    "sum_list(list1)"
   ]
  },
  {
   "cell_type": "code",
   "execution_count": null,
   "metadata": {},
   "outputs": [],
   "source": [
    "#5\n",
    "def max_num(list):\n",
    "    print(f'Berilgan listdagi eng katta element: {max(list)} ga teng')\n",
    "\n",
    "list2=[1,9,3,4,8]\n",
    "max_num(list2)"
   ]
  },
  {
   "cell_type": "code",
   "execution_count": null,
   "metadata": {},
   "outputs": [],
   "source": [
    "#6\n",
    "list2=[2,2,4,3,2,2]\n",
    "\n",
    "def multiply_num(list):\n",
    "    n=1\n",
    "    for item in list:\n",
    "        n*=item\n",
    "    print(f'Berilgan listdagi elementlar ko\\'paytmasi: {n} ga teng')\n",
    "\n",
    "multiply_num(list2)"
   ]
  },
  {
   "cell_type": "code",
   "execution_count": 1,
   "metadata": {},
   "outputs": [
    {
     "name": "stdout",
     "output_type": "stream",
     "text": [
      "molas\n",
      "rutsad\n"
     ]
    }
   ],
   "source": [
    "#7\n",
    "\n",
    "#1 dastur\n",
    "\n",
    "name = input('#1 dastur uchun string ma\\'lumot kiriting ')\n",
    "reversed = ''\n",
    "\n",
    "for letter in range(len(name),0,-1):\n",
    "    reversed += name[letter-1]\n",
    "\n",
    "print(reversed)\n",
    "\n",
    "# 2 funksiya\n",
    "def reverse_str():\n",
    "    name = input('#2 funksiya uchun string ma\\'lumot kiriting ')\n",
    "    reversed = ''\n",
    "\n",
    "    for letter in range(len(name),0,-1):\n",
    "        reversed += name[letter-1]\n",
    "\n",
    "    print(reversed)\n",
    "\n",
    "reverse_str()"
   ]
  },
  {
   "cell_type": "code",
   "execution_count": null,
   "metadata": {},
   "outputs": [],
   "source": [
    "#8\n",
    "list3= [1,1,2,2,2,3,4,4,5]\n",
    "\n",
    "def distinct_elements(list):\n",
    "    list4 = []\n",
    "\n",
    "    for i in list:\n",
    "        if i  in list4:\n",
    "            continue\n",
    "        list4.append(i)\n",
    "    return (list4)\n",
    "\n",
    "l = distinct_elements(list3)\n",
    "print(l)"
   ]
  },
  {
   "cell_type": "code",
   "execution_count": null,
   "metadata": {},
   "outputs": [],
   "source": [
    "#9\n",
    "list5 = [1,2,22,3,4,5,6,7,8,9,10]\n",
    "#1\n",
    "def even_numbers(list):\n",
    "    l6=[]\n",
    "    for i in list:\n",
    "        if i%2==0:\n",
    "            l6.append(i)\n",
    "    print(f'#1 usul\\t {l6} ')\n",
    "even_numbers(list5)\n",
    "\n",
    "#2\n",
    "def even_numbers(list):\n",
    "    l6=[]\n",
    "    for i in list:\n",
    "        if i%2!=0:\n",
    "            continue\n",
    "        l6.append(i)\n",
    "    print(f'#2 usul\\t {l6} ')\n",
    "even_numbers(list5)"
   ]
  },
  {
   "cell_type": "code",
   "execution_count": null,
   "metadata": {},
   "outputs": [],
   "source": [
    "#9\n",
    "list6 = [1,2,7,3,4,5,6,7,8,9,10]\n",
    "#1\n",
    "def odd_numbers(list):\n",
    "    l6=[]\n",
    "    for i in list:\n",
    "        if i%2!=0:\n",
    "            l6.append(i)\n",
    "    print(f'#1 usul\\t {l6} ')\n",
    "odd_numbers(list6)\n",
    "\n",
    "#2\n",
    "def odd_numbers(list):\n",
    "    l6=[]\n",
    "    for i in list:\n",
    "        if i%2==0:\n",
    "            continue\n",
    "        l6.append(i)\n",
    "    print(f'#2 usul\\t {l6} ')\n",
    "odd_numbers(list6)"
   ]
  },
  {
   "cell_type": "code",
   "execution_count": null,
   "metadata": {},
   "outputs": [],
   "source": [
    "#11 ***\n",
    "number1 = int(input('son kiriting'))\n",
    "\n",
    "def is_prime(number:int):\n",
    "    check = bool\n",
    "    counter = 0\n",
    "\n",
    "    for i in range(2,number):\n",
    "        if number%i==0:\n",
    "            counter+=1\n",
    "    if counter==0:\n",
    "        check = True\n",
    "    else:\n",
    "        check = False\n",
    "    print(check)\n",
    "\n",
    "is_prime(number1)\n"
   ]
  },
  {
   "cell_type": "code",
   "execution_count": null,
   "metadata": {},
   "outputs": [],
   "source": [
    "#12 ***\n",
    "\n",
    "def digit_sum():\n",
    "    k=int(input('Son kiriting: '))\n",
    "    print(f'siz kiritgan son \"{k}\"  ning sonlari yig\\'indisi = ' , end='')\n",
    "    \n",
    "    sum=0\n",
    "    qoldiq = 0\n",
    "\n",
    "    if k>=10:\n",
    "        while(k>=10):\n",
    "            qoldiq=k%10\n",
    "            k=int(k/10)\n",
    "            sum+=qoldiq\n",
    "        sum+=k\n",
    "    else:   \n",
    "        sum=k\n",
    "\n",
    "    print(sum)\n",
    "\n",
    "digit_sum()"
   ]
  },
  {
   "cell_type": "code",
   "execution_count": 4,
   "metadata": {},
   "outputs": [
    {
     "name": "stdout",
     "output_type": "stream",
     "text": [
      "2\n",
      "4\n",
      "8\n",
      "16\n",
      "32\n",
      "64\n",
      "128\n",
      "256\n"
     ]
    }
   ],
   "source": [
    "#13***\n",
    "def powerOfTwo():\n",
    "    n=int(input('son kiriting: '))\n",
    "    i=1\n",
    "    while (pow(2,i)) <= n :\n",
    "        print(pow(2,i))\n",
    "        i+=1\n",
    "\n",
    "powerOfTwo()\n"
   ]
  }
 ],
 "metadata": {
  "kernelspec": {
   "display_name": "Python 3",
   "language": "python",
   "name": "python3"
  },
  "language_info": {
   "codemirror_mode": {
    "name": "ipython",
    "version": 3
   },
   "file_extension": ".py",
   "mimetype": "text/x-python",
   "name": "python",
   "nbconvert_exporter": "python",
   "pygments_lexer": "ipython3",
   "version": "3.12.4"
  }
 },
 "nbformat": 4,
 "nbformat_minor": 2
}
