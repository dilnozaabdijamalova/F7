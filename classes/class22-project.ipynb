{
 "cells": [
  {
   "cell_type": "code",
   "execution_count": 1,
   "metadata": {},
   "outputs": [],
   "source": [
    "import pandas as pd\n",
    "import numpy as np\n",
    "import matplotlib.pyplot as plt"
   ]
  },
  {
   "cell_type": "code",
   "execution_count": 5,
   "metadata": {},
   "outputs": [
    {
     "data": {
      "text/plain": [
       "<bound method NDFrame.head of       Customer_ID   Customer_Name Account_Type  Account_Balance  \\\n",
       "0        CUST1000      Customer_0      Savings         82633.87   \n",
       "1        CUST1001      Customer_1       Credit         90757.74   \n",
       "2        CUST1002      Customer_2       Credit         50685.48   \n",
       "3        CUST1003      Customer_3     Checking         31471.03   \n",
       "4        CUST1004      Customer_4      Savings         50626.56   \n",
       "...           ...             ...          ...              ...   \n",
       "99995  CUST100995  Customer_99995     Checking         34921.86   \n",
       "99996  CUST100996  Customer_99996       Credit          2071.60   \n",
       "99997  CUST100997  Customer_99997     Checking         46521.11   \n",
       "99998  CUST100998  Customer_99998     Checking         50027.42   \n",
       "99999  CUST100999  Customer_99999      Savings         21555.12   \n",
       "\n",
       "      Last_Transaction_Date Region  Loan_Amount Loan_Status  Credit_Score  \\\n",
       "0       2023-01-01 00:00:00  South     46438.00     Pending           306   \n",
       "1       2023-01-01 00:00:00  North     29135.25    Rejected           437   \n",
       "2       2023-01-01 00:00:00   East     10953.07     Pending           838   \n",
       "3       2023-01-01 00:00:00  South     32354.56     Pending           551   \n",
       "4       2023-01-01 00:00:00  North     27670.17    Approved           656   \n",
       "...                     ...    ...          ...         ...           ...   \n",
       "99995   2023-01-07 22:39:00   East     12399.80    Rejected           665   \n",
       "99996   2023-01-07 22:39:00  North     17540.18    Rejected           401   \n",
       "99997   2023-01-07 22:39:00  North     26268.52     Pending           413   \n",
       "99998   2023-01-07 22:39:00  North     18829.57     Pending           488   \n",
       "99999   2023-01-07 22:39:00   East     19149.80    Approved           383   \n",
       "\n",
       "       Age Employment_Status  Annual_Income  Overdue_Payments  \\\n",
       "0       45          Employed      143921.18                 4   \n",
       "1       46     Self-Employed      138947.01                 3   \n",
       "2       74          Employed      134270.11                 3   \n",
       "3       46     Self-Employed       45247.82                 4   \n",
       "4       63     Self-Employed      146733.37                 5   \n",
       "...    ...               ...            ...               ...   \n",
       "99995   32        Unemployed      141679.70                 3   \n",
       "99996   32     Self-Employed      116718.85                 9   \n",
       "99997   71          Employed       29156.62                 6   \n",
       "99998   38     Self-Employed       87059.77                 5   \n",
       "99999   44          Employed      125832.29                 0   \n",
       "\n",
       "       Savings_Account_Balance Branch_ID Branch_Name  Transaction_Count  \\\n",
       "0                    106137.17     BR100  Delta Bank                 50   \n",
       "1                    196403.32     BR101  Gamma Bank                481   \n",
       "2                     66639.21     BR102  Delta Bank                 84   \n",
       "3                    160195.84     BR103  Delta Bank                141   \n",
       "4                    127624.56     BR104  Alpha Bank                187   \n",
       "...                        ...       ...         ...                ...   \n",
       "99995                 98682.59  BR100095  Alpha Bank                391   \n",
       "99996                 93928.40  BR100096  Gamma Bank                409   \n",
       "99997                139819.44  BR100097  Gamma Bank                131   \n",
       "99998                199349.81  BR100098  Gamma Bank                382   \n",
       "99999                 77390.89  BR100099   Beta Bank                354   \n",
       "\n",
       "       Gender Account_Open_Date Customer_Risk_Level  \n",
       "0        Male        2000-01-01                High  \n",
       "1      Female        2000-01-01                 Low  \n",
       "2      Female        2000-01-01                 Low  \n",
       "3        Male        2000-01-01              Medium  \n",
       "4      Female        2000-01-01                High  \n",
       "...       ...               ...                 ...  \n",
       "99995    Male        2027-05-18                 Low  \n",
       "99996    Male        2027-05-18                 Low  \n",
       "99997  Female        2027-05-18                High  \n",
       "99998    Male        2027-05-18              Medium  \n",
       "99999    Male        2027-05-18              Medium  \n",
       "\n",
       "[100000 rows x 20 columns]>"
      ]
     },
     "execution_count": 5,
     "metadata": {},
     "output_type": "execute_result"
    }
   ],
   "source": [
    "df = pd.read_csv('banking_data.csv')\n",
    "df.head"
   ]
  },
  {
   "cell_type": "code",
   "execution_count": 14,
   "metadata": {},
   "outputs": [
    {
     "ename": "KeyError",
     "evalue": "'Customer_Risk_Level'",
     "output_type": "error",
     "traceback": [
      "\u001b[1;31m---------------------------------------------------------------------------\u001b[0m",
      "\u001b[1;31mKeyError\u001b[0m                                  Traceback (most recent call last)",
      "File \u001b[1;32mc:\\Users\\User\\AppData\\Local\\Programs\\Python\\Python312\\Lib\\site-packages\\pandas\\core\\indexes\\base.py:3805\u001b[0m, in \u001b[0;36mIndex.get_loc\u001b[1;34m(self, key)\u001b[0m\n\u001b[0;32m   3804\u001b[0m \u001b[38;5;28;01mtry\u001b[39;00m:\n\u001b[1;32m-> 3805\u001b[0m     \u001b[38;5;28;01mreturn\u001b[39;00m \u001b[38;5;28;43mself\u001b[39;49m\u001b[38;5;241;43m.\u001b[39;49m\u001b[43m_engine\u001b[49m\u001b[38;5;241;43m.\u001b[39;49m\u001b[43mget_loc\u001b[49m\u001b[43m(\u001b[49m\u001b[43mcasted_key\u001b[49m\u001b[43m)\u001b[49m\n\u001b[0;32m   3806\u001b[0m \u001b[38;5;28;01mexcept\u001b[39;00m \u001b[38;5;167;01mKeyError\u001b[39;00m \u001b[38;5;28;01mas\u001b[39;00m err:\n",
      "File \u001b[1;32mindex.pyx:167\u001b[0m, in \u001b[0;36mpandas._libs.index.IndexEngine.get_loc\u001b[1;34m()\u001b[0m\n",
      "File \u001b[1;32mindex.pyx:175\u001b[0m, in \u001b[0;36mpandas._libs.index.IndexEngine.get_loc\u001b[1;34m()\u001b[0m\n",
      "File \u001b[1;32mpandas\\\\_libs\\\\index_class_helper.pxi:70\u001b[0m, in \u001b[0;36mpandas._libs.index.Int64Engine._check_type\u001b[1;34m()\u001b[0m\n",
      "\u001b[1;31mKeyError\u001b[0m: 'Customer_Risk_Level'",
      "\nThe above exception was the direct cause of the following exception:\n",
      "\u001b[1;31mKeyError\u001b[0m                                  Traceback (most recent call last)",
      "Cell \u001b[1;32mIn[14], line 1\u001b[0m\n\u001b[1;32m----> 1\u001b[0m df[\u001b[38;5;124m'\u001b[39m\u001b[38;5;124mCustomer_Risk_Level\u001b[39m\u001b[38;5;124m'\u001b[39m] \u001b[38;5;241m=\u001b[39m \u001b[43mdf\u001b[49m\u001b[43m[\u001b[49m\u001b[38;5;124;43m'\u001b[39;49m\u001b[38;5;124;43mCustomer_Risk_Level\u001b[39;49m\u001b[38;5;124;43m'\u001b[39;49m\u001b[43m]\u001b[49m\u001b[38;5;241m.\u001b[39mdropna()\n",
      "File \u001b[1;32mc:\\Users\\User\\AppData\\Local\\Programs\\Python\\Python312\\Lib\\site-packages\\pandas\\core\\series.py:1121\u001b[0m, in \u001b[0;36mSeries.__getitem__\u001b[1;34m(self, key)\u001b[0m\n\u001b[0;32m   1118\u001b[0m     \u001b[38;5;28;01mreturn\u001b[39;00m \u001b[38;5;28mself\u001b[39m\u001b[38;5;241m.\u001b[39m_values[key]\n\u001b[0;32m   1120\u001b[0m \u001b[38;5;28;01melif\u001b[39;00m key_is_scalar:\n\u001b[1;32m-> 1121\u001b[0m     \u001b[38;5;28;01mreturn\u001b[39;00m \u001b[38;5;28;43mself\u001b[39;49m\u001b[38;5;241;43m.\u001b[39;49m\u001b[43m_get_value\u001b[49m\u001b[43m(\u001b[49m\u001b[43mkey\u001b[49m\u001b[43m)\u001b[49m\n\u001b[0;32m   1123\u001b[0m \u001b[38;5;66;03m# Convert generator to list before going through hashable part\u001b[39;00m\n\u001b[0;32m   1124\u001b[0m \u001b[38;5;66;03m# (We will iterate through the generator there to check for slices)\u001b[39;00m\n\u001b[0;32m   1125\u001b[0m \u001b[38;5;28;01mif\u001b[39;00m is_iterator(key):\n",
      "File \u001b[1;32mc:\\Users\\User\\AppData\\Local\\Programs\\Python\\Python312\\Lib\\site-packages\\pandas\\core\\series.py:1237\u001b[0m, in \u001b[0;36mSeries._get_value\u001b[1;34m(self, label, takeable)\u001b[0m\n\u001b[0;32m   1234\u001b[0m     \u001b[38;5;28;01mreturn\u001b[39;00m \u001b[38;5;28mself\u001b[39m\u001b[38;5;241m.\u001b[39m_values[label]\n\u001b[0;32m   1236\u001b[0m \u001b[38;5;66;03m# Similar to Index.get_value, but we do not fall back to positional\u001b[39;00m\n\u001b[1;32m-> 1237\u001b[0m loc \u001b[38;5;241m=\u001b[39m \u001b[38;5;28;43mself\u001b[39;49m\u001b[38;5;241;43m.\u001b[39;49m\u001b[43mindex\u001b[49m\u001b[38;5;241;43m.\u001b[39;49m\u001b[43mget_loc\u001b[49m\u001b[43m(\u001b[49m\u001b[43mlabel\u001b[49m\u001b[43m)\u001b[49m\n\u001b[0;32m   1239\u001b[0m \u001b[38;5;28;01mif\u001b[39;00m is_integer(loc):\n\u001b[0;32m   1240\u001b[0m     \u001b[38;5;28;01mreturn\u001b[39;00m \u001b[38;5;28mself\u001b[39m\u001b[38;5;241m.\u001b[39m_values[loc]\n",
      "File \u001b[1;32mc:\\Users\\User\\AppData\\Local\\Programs\\Python\\Python312\\Lib\\site-packages\\pandas\\core\\indexes\\base.py:3812\u001b[0m, in \u001b[0;36mIndex.get_loc\u001b[1;34m(self, key)\u001b[0m\n\u001b[0;32m   3807\u001b[0m     \u001b[38;5;28;01mif\u001b[39;00m \u001b[38;5;28misinstance\u001b[39m(casted_key, \u001b[38;5;28mslice\u001b[39m) \u001b[38;5;129;01mor\u001b[39;00m (\n\u001b[0;32m   3808\u001b[0m         \u001b[38;5;28misinstance\u001b[39m(casted_key, abc\u001b[38;5;241m.\u001b[39mIterable)\n\u001b[0;32m   3809\u001b[0m         \u001b[38;5;129;01mand\u001b[39;00m \u001b[38;5;28many\u001b[39m(\u001b[38;5;28misinstance\u001b[39m(x, \u001b[38;5;28mslice\u001b[39m) \u001b[38;5;28;01mfor\u001b[39;00m x \u001b[38;5;129;01min\u001b[39;00m casted_key)\n\u001b[0;32m   3810\u001b[0m     ):\n\u001b[0;32m   3811\u001b[0m         \u001b[38;5;28;01mraise\u001b[39;00m InvalidIndexError(key)\n\u001b[1;32m-> 3812\u001b[0m     \u001b[38;5;28;01mraise\u001b[39;00m \u001b[38;5;167;01mKeyError\u001b[39;00m(key) \u001b[38;5;28;01mfrom\u001b[39;00m \u001b[38;5;21;01merr\u001b[39;00m\n\u001b[0;32m   3813\u001b[0m \u001b[38;5;28;01mexcept\u001b[39;00m \u001b[38;5;167;01mTypeError\u001b[39;00m:\n\u001b[0;32m   3814\u001b[0m     \u001b[38;5;66;03m# If we have a listlike key, _check_indexing_error will raise\u001b[39;00m\n\u001b[0;32m   3815\u001b[0m     \u001b[38;5;66;03m#  InvalidIndexError. Otherwise we fall through and re-raise\u001b[39;00m\n\u001b[0;32m   3816\u001b[0m     \u001b[38;5;66;03m#  the TypeError.\u001b[39;00m\n\u001b[0;32m   3817\u001b[0m     \u001b[38;5;28mself\u001b[39m\u001b[38;5;241m.\u001b[39m_check_indexing_error(key)\n",
      "\u001b[1;31mKeyError\u001b[0m: 'Customer_Risk_Level'"
     ]
    }
   ],
   "source": [
    "df['Customer_Risk_Level'] = df['Customer_Risk_Level'].dropna()\n"
   ]
  },
  {
   "cell_type": "code",
   "execution_count": null,
   "metadata": {},
   "outputs": [],
   "source": []
  }
 ],
 "metadata": {
  "kernelspec": {
   "display_name": "Python 3",
   "language": "python",
   "name": "python3"
  },
  "language_info": {
   "codemirror_mode": {
    "name": "ipython",
    "version": 3
   },
   "file_extension": ".py",
   "mimetype": "text/x-python",
   "name": "python",
   "nbconvert_exporter": "python",
   "pygments_lexer": "ipython3",
   "version": "3.12.4"
  }
 },
 "nbformat": 4,
 "nbformat_minor": 2
}
