{
 "cells": [
  {
   "cell_type": "markdown",
   "metadata": {},
   "source": [
    "## File Handling\n"
   ]
  },
  {
   "cell_type": "code",
   "execution_count": null,
   "metadata": {},
   "outputs": [],
   "source": [
    "#  'r' --- read\n",
    "#  'w' --- write  --- (overwrite)\n",
    "#  'a' --- append  -- (append)\n",
    "#  'r+' -- read,write\n",
    "#  'w+' -- write\n",
    "#  'rb' -- read binary file\n",
    "#  'wb'-- write binary file"
   ]
  },
  {
   "cell_type": "code",
   "execution_count": 9,
   "metadata": {},
   "outputs": [],
   "source": [
    "a = open('sample//sample.txt')\n",
    "data = a.read()\n",
    "data\n",
    "a.close()\n"
   ]
  },
  {
   "cell_type": "code",
   "execution_count": 24,
   "metadata": {},
   "outputs": [],
   "source": [
    "with open('Country.txt','w') as f:\n",
    "    f.write('I live in Uzbekistan')\n",
    "    \n",
    "    \n"
   ]
  },
  {
   "cell_type": "code",
   "execution_count": 25,
   "metadata": {},
   "outputs": [
    {
     "data": {
      "text/plain": [
       "'I live in Uzbekistan'"
      ]
     },
     "execution_count": 25,
     "metadata": {},
     "output_type": "execute_result"
    }
   ],
   "source": [
    "with open('Country.txt','r') as f:\n",
    "    data =f.read()\n",
    "    \n",
    "data"
   ]
  },
  {
   "cell_type": "code",
   "execution_count": 32,
   "metadata": {},
   "outputs": [
    {
     "name": "stdout",
     "output_type": "stream",
     "text": [
      "Team,Country,Captain,Awards_Won,Club_Budget_Million,Top_Scorer_Goals,Players_Under_25,Total_Players\n",
      "\n",
      "FC Barcelona,Spain,Sergio Busquets,95,950,634,12,25\n",
      "\n",
      "Real Madrid,Spain,Karim Benzema,99,1000,607,10,23\n",
      "\n",
      "Manchester United,England,Harry Maguire,86,850,562,15,27\n",
      "\n",
      "Liverpool,England,Jordan Henderson,82,750,511,13,26\n",
      "\n",
      "Bayern Munich,Germany,Manuel Neuer,75,800,543,11,24\n",
      "\n",
      "Paris Saint-Germain,France,Marquinhos,45,730,455,14,26\n",
      "\n",
      "Juventus,Italy,Leonardo Bonucci,63,680,501,9,25\n",
      "\n",
      "Chelsea,England,Reece James,58,720,503,13,27\n",
      "\n",
      "Manchester City,England,Kevin De Bruyne,60,740,491,12,25\n",
      "\n",
      "Arsenal,England,Martin Odegaard,55,690,480,16,26\n",
      "\n",
      "Inter Milan,Italy,Lautaro Martínez,47,640,477,14,25\n",
      "\n",
      "AC Milan,Italy,Davide Calabria,48,620,465,12,24\n",
      "\n",
      "Atletico Madrid,Spain,Koke,52,610,453,15,26\n",
      "\n",
      "Borussia Dortmund,Germany,Marco Reus,40,550,440,13,25\n",
      "\n",
      "Tottenham Hotspur,England,Hugo Lloris,33,570,437,14,24\n",
      "\n",
      "Ajax,Netherlands,Dua¡an Tadia,72,580,421,12,26\n",
      "\n",
      "Sevilla,Spain,Jesais Navas,40,600,410,11,25\n",
      "\n",
      "Porto,Portugal,Pepe,55,520,399,13,24\n",
      "\n",
      "Napoli,Italy,Giovanni Di Lorenzo,50,500,395,12,25\n",
      "\n",
      "Benfica,Portugal,Nicola¡s Otamendi,49,480,385,14,24\n",
      "\n",
      "Leicester City,England,Jonny Evans,15,470,377,15,26\n",
      "\n",
      "Lazio,Italy,Ciro Immobile,22,460,367,13,24\n",
      "\n",
      "AS Roma,Italy,Lorenzo Pellegrini,24,450,359,12,25\n",
      "\n",
      "Shakhtar Donetsk,Ukraine,Taras Stepanenko,34,420,351,11,26\n",
      "\n",
      "RB Leipzig,Germany,Peter Gulacsi,32,400,345,10,24\n",
      "\n",
      "Olympique Lyon,France,Alexandre Lacazette,41,390,335,13,25\n",
      "\n",
      "Villarreal,Spain,Raul Albiol,19,380,329,14,26\n",
      "\n",
      "Zenit Saint Petersburg,Russia,Dejan Lovren,30,370,320,12,24\n",
      "\n",
      "Marseille,France,Dimitri Payet,28,350,315,11,25\n",
      "\n",
      "Monaco,France,Wissam Ben Yedder,21,340,305,10,26\n",
      "\n",
      "Real Sociedad,Spain,Mikel Oyarzabal,25,330,300,14,25\n",
      "\n",
      "Everton,England,Seamus Coleman,26,310,290,13,24\n",
      "\n",
      "Wolves,England,Conor Coady,16,300,285,12,26\n",
      "\n",
      "Bayer Leverkusen,Germany,Lukas Hradecky,36,290,270,11,25\n",
      "\n",
      "Valencia,Spain,Josa Gaya ,30,270,260,14,26\n",
      "\n",
      "Celtic,Scotland,Callum McGregor,51,260,250,10,25\n",
      "\n",
      "Rangers,Scotland,James Tavernier,55,250,245,13,26\n",
      "\n",
      "Fiorentina,Italy,Cristiano Biraghi,24,240,240,14,25\n",
      "\n",
      "West Ham United,England,Declan Rice,22,230,230,15,24\n",
      "\n",
      "Schalke 04,Germany,Ralf Fahrmann,33,220,220,12,26\n",
      "\n",
      "Galatasaray,Turkey,Fernando Muslera,40,210,215,10,25\n",
      "\n",
      "Fenerbahche,Turkey,Altay Bayvandar,43,200,210,11,26\n",
      "\n",
      "Besiktas,Turkey,Domagoj Vida,32,190,205,12,25\n",
      "\n",
      "PSV Eindhoven,Netherlands,Luuk de Jong,45,180,200,14,26\n",
      "\n",
      "Club Brugge,Belgium,Ruud Vormer,38,170,195,13,24\n",
      "\n",
      "Olympiacos,Greece,Andreas Bouchalakis,49,160,185,10,25\n",
      "\n",
      "Dynamo Kyiv,Ukraine,Serhiy Sydorchuk,28,150,175,11,26\n",
      "\n",
      "Red Star Belgrade,Serbia,Aleksandar Katai,27,140,170,12,25\n",
      "\n",
      "Rennes,France,Benjamin Bourigeaud,33,130,165,14,24\n",
      "\n",
      "Lille,France,Jose Fonte,31,120,160,13,26\n",
      "\n"
     ]
    }
   ],
   "source": [
    "with open('football_clubs_top_50_data.csv','r') as f:\n",
    "    for line in f.readlines():\n",
    "        print(line)\n",
    "    \n",
    "   \n",
    "# print(data)\n",
    "    \n"
   ]
  },
  {
   "cell_type": "code",
   "execution_count": 41,
   "metadata": {},
   "outputs": [
    {
     "name": "stdout",
     "output_type": "stream",
     "text": [
      "uzbekiston\n",
      "uzbekiston\n"
     ]
    }
   ],
   "source": [
    "with open('data.txt','r') as f:\n",
    "    data = f.read()\n",
    "    f.seek(0)\n",
    "    data2= f.read()\n",
    "    \n",
    "print(data)\n",
    "print(data2)"
   ]
  },
  {
   "cell_type": "code",
   "execution_count": null,
   "metadata": {},
   "outputs": [],
   "source": []
  }
 ],
 "metadata": {
  "kernelspec": {
   "display_name": "Python 3",
   "language": "python",
   "name": "python3"
  },
  "language_info": {
   "codemirror_mode": {
    "name": "ipython",
    "version": 3
   },
   "file_extension": ".py",
   "mimetype": "text/x-python",
   "name": "python",
   "nbconvert_exporter": "python",
   "pygments_lexer": "ipython3",
   "version": "3.12.2"
  }
 },
 "nbformat": 4,
 "nbformat_minor": 2
}
