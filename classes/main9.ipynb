{
 "cells": [
  {
   "cell_type": "markdown",
   "metadata": {},
   "source": [
    "## File Handling\n"
   ]
  },
  {
   "cell_type": "code",
   "execution_count": null,
   "metadata": {},
   "outputs": [],
   "source": [
    "#  'r' --- read\n",
    "#  'w' --- write  --- (overwrite)\n",
    "#  'a' --- append  -- (append)\n",
    "#  'r+' -- read,write\n",
    "#  'w+' -- write\n",
    "#  'rb' -- read binary file\n",
    "#  'wb'-- write binary file"
   ]
  },
  {
   "cell_type": "code",
   "execution_count": 9,
   "metadata": {},
   "outputs": [],
   "source": [
    "a = open('sample//sample.txt')\n",
    "data = a.read()\n",
    "data\n",
    "a.close()\n"
   ]
  },
  {
   "cell_type": "code",
   "execution_count": 24,
   "metadata": {},
   "outputs": [],
   "source": [
    "with open('Country.txt','w') as f:\n",
    "    f.write('I live in Uzbekistan')\n",
    "    \n",
    "    \n"
   ]
  },
  {
   "cell_type": "code",
   "execution_count": 25,
   "metadata": {},
   "outputs": [
    {
     "data": {
      "text/plain": [
       "'I live in Uzbekistan'"
      ]
     },
     "execution_count": 25,
     "metadata": {},
     "output_type": "execute_result"
    }
   ],
   "source": [
    "with open('Country.txt','r') as f:\n",
    "    data =f.read()\n",
    "    \n",
    "data"
   ]
  },
  {
   "cell_type": "code",
   "execution_count": 32,
   "metadata": {},
   "outputs": [
    {
     "name": "stdout",
     "output_type": "stream",
     "text": [
      "Team,Country,Captain,Awards_Won,Club_Budget_Million,Top_Scorer_Goals,Players_Under_25,Total_Players\n",
      "\n",
      "FC Barcelona,Spain,Sergio Busquets,95,950,634,12,25\n",
      "\n",
      "Real Madrid,Spain,Karim Benzema,99,1000,607,10,23\n",
      "\n",
      "Manchester United,England,Harry Maguire,86,850,562,15,27\n",
      "\n",
      "Liverpool,England,Jordan Henderson,82,750,511,13,26\n",
      "\n",
      "Bayern Munich,Germany,Manuel Neuer,75,800,543,11,24\n",
      "\n",
      "Paris Saint-Germain,France,Marquinhos,45,730,455,14,26\n",
      "\n",
      "Juventus,Italy,Leonardo Bonucci,63,680,501,9,25\n",
      "\n",
      "Chelsea,England,Reece James,58,720,503,13,27\n",
      "\n",
      "Manchester City,England,Kevin De Bruyne,60,740,491,12,25\n",
      "\n",
      "Arsenal,England,Martin Odegaard,55,690,480,16,26\n",
      "\n",
      "Inter Milan,Italy,Lautaro Martínez,47,640,477,14,25\n",
      "\n",
      "AC Milan,Italy,Davide Calabria,48,620,465,12,24\n",
      "\n",
      "Atletico Madrid,Spain,Koke,52,610,453,15,26\n",
      "\n",
      "Borussia Dortmund,Germany,Marco Reus,40,550,440,13,25\n",
      "\n",
      "Tottenham Hotspur,England,Hugo Lloris,33,570,437,14,24\n",
      "\n",
      "Ajax,Netherlands,Dua¡an Tadia,72,580,421,12,26\n",
      "\n",
      "Sevilla,Spain,Jesais Navas,40,600,410,11,25\n",
      "\n",
      "Porto,Portugal,Pepe,55,520,399,13,24\n",
      "\n",
      "Napoli,Italy,Giovanni Di Lorenzo,50,500,395,12,25\n",
      "\n",
      "Benfica,Portugal,Nicola¡s Otamendi,49,480,385,14,24\n",
      "\n",
      "Leicester City,England,Jonny Evans,15,470,377,15,26\n",
      "\n",
      "Lazio,Italy,Ciro Immobile,22,460,367,13,24\n",
      "\n",
      "AS Roma,Italy,Lorenzo Pellegrini,24,450,359,12,25\n",
      "\n",
      "Shakhtar Donetsk,Ukraine,Taras Stepanenko,34,420,351,11,26\n",
      "\n",
      "RB Leipzig,Germany,Peter Gulacsi,32,400,345,10,24\n",
      "\n",
      "Olympique Lyon,France,Alexandre Lacazette,41,390,335,13,25\n",
      "\n",
      "Villarreal,Spain,Raul Albiol,19,380,329,14,26\n",
      "\n",
      "Zenit Saint Petersburg,Russia,Dejan Lovren,30,370,320,12,24\n",
      "\n",
      "Marseille,France,Dimitri Payet,28,350,315,11,25\n",
      "\n",
      "Monaco,France,Wissam Ben Yedder,21,340,305,10,26\n",
      "\n",
      "Real Sociedad,Spain,Mikel Oyarzabal,25,330,300,14,25\n",
      "\n",
      "Everton,England,Seamus Coleman,26,310,290,13,24\n",
      "\n",
      "Wolves,England,Conor Coady,16,300,285,12,26\n",
      "\n",
      "Bayer Leverkusen,Germany,Lukas Hradecky,36,290,270,11,25\n",
      "\n",
      "Valencia,Spain,Josa Gaya ,30,270,260,14,26\n",
      "\n",
      "Celtic,Scotland,Callum McGregor,51,260,250,10,25\n",
      "\n",
      "Rangers,Scotland,James Tavernier,55,250,245,13,26\n",
      "\n",
      "Fiorentina,Italy,Cristiano Biraghi,24,240,240,14,25\n",
      "\n",
      "West Ham United,England,Declan Rice,22,230,230,15,24\n",
      "\n",
      "Schalke 04,Germany,Ralf Fahrmann,33,220,220,12,26\n",
      "\n",
      "Galatasaray,Turkey,Fernando Muslera,40,210,215,10,25\n",
      "\n",
      "Fenerbahche,Turkey,Altay Bayvandar,43,200,210,11,26\n",
      "\n",
      "Besiktas,Turkey,Domagoj Vida,32,190,205,12,25\n",
      "\n",
      "PSV Eindhoven,Netherlands,Luuk de Jong,45,180,200,14,26\n",
      "\n",
      "Club Brugge,Belgium,Ruud Vormer,38,170,195,13,24\n",
      "\n",
      "Olympiacos,Greece,Andreas Bouchalakis,49,160,185,10,25\n",
      "\n",
      "Dynamo Kyiv,Ukraine,Serhiy Sydorchuk,28,150,175,11,26\n",
      "\n",
      "Red Star Belgrade,Serbia,Aleksandar Katai,27,140,170,12,25\n",
      "\n",
      "Rennes,France,Benjamin Bourigeaud,33,130,165,14,24\n",
      "\n",
      "Lille,France,Jose Fonte,31,120,160,13,26\n",
      "\n"
     ]
    }
   ],
   "source": [
    "with open('football_clubs_top_50_data.csv','r') as f:\n",
    "    for line in f.readlines():\n",
    "        print(line)\n",
    "    \n",
    "   \n",
    "# print(data)\n",
    "    \n"
   ]
  },
  {
   "cell_type": "code",
   "execution_count": 41,
   "metadata": {},
   "outputs": [
    {
     "name": "stdout",
     "output_type": "stream",
     "text": [
      "uzbekiston\n",
      "uzbekiston\n"
     ]
    }
   ],
   "source": [
    "with open('data.txt','r') as f:\n",
    "    data = f.read()\n",
    "    f.seek(0)\n",
    "    data2= f.read()\n",
    "    \n",
    "print(data)\n",
    "print(data2)"
   ]
  },
  {
   "cell_type": "code",
   "execution_count": 1,
   "metadata": {},
   "outputs": [],
   "source": [
    "import pandas as pd"
   ]
  },
  {
   "cell_type": "code",
   "execution_count": null,
   "metadata": {},
   "outputs": [
    {
     "name": "stdout",
     "output_type": "stream",
     "text": [
      "  Symbol  Shares  Low  High\n",
      "0   AAPL      80   95   110\n",
      "1   TSLA      50   80   130\n",
      "2    WMT      40   55    70\n"
     ]
    }
   ],
   "source": [
    "df = pd.read_csv('stocks_2016.csv')\n",
    "print(df)\n"
   ]
  },
  {
   "cell_type": "code",
   "execution_count": 4,
   "metadata": {},
   "outputs": [
    {
     "name": "stdout",
     "output_type": "stream",
     "text": [
      "      color      director_name  num_critic_for_reviews  duration  \\\n",
      "0     Color      James Cameron                   723.0     178.0   \n",
      "1     Color     Gore Verbinski                   302.0     169.0   \n",
      "2     Color         Sam Mendes                   602.0     148.0   \n",
      "3     Color  Christopher Nolan                   813.0     164.0   \n",
      "4       NaN        Doug Walker                     NaN       NaN   \n",
      "...     ...                ...                     ...       ...   \n",
      "4911  Color        Scott Smith                     1.0      87.0   \n",
      "4912  Color                NaN                    43.0      43.0   \n",
      "4913  Color   Benjamin Roberds                    13.0      76.0   \n",
      "4914  Color        Daniel Hsia                    14.0     100.0   \n",
      "4915  Color           Jon Gunn                    43.0      90.0   \n",
      "\n",
      "      director_facebook_likes  actor_3_facebook_likes      actor_2_name  \\\n",
      "0                         0.0                   855.0  Joel David Moore   \n",
      "1                       563.0                  1000.0     Orlando Bloom   \n",
      "2                         0.0                   161.0      Rory Kinnear   \n",
      "3                     22000.0                 23000.0    Christian Bale   \n",
      "4                       131.0                     NaN        Rob Walker   \n",
      "...                       ...                     ...               ...   \n",
      "4911                      2.0                   318.0     Daphne Zuniga   \n",
      "4912                      NaN                   319.0     Valorie Curry   \n",
      "4913                      0.0                     0.0     Maxwell Moody   \n",
      "4914                      0.0                   489.0     Daniel Henney   \n",
      "4915                     16.0                    16.0  Brian Herzlinger   \n",
      "\n",
      "      actor_1_facebook_likes        gross                           genres  \\\n",
      "0                     1000.0  760505847.0  Action|Adventure|Fantasy|Sci-Fi   \n",
      "1                    40000.0  309404152.0         Action|Adventure|Fantasy   \n",
      "2                    11000.0  200074175.0        Action|Adventure|Thriller   \n",
      "3                    27000.0  448130642.0                  Action|Thriller   \n",
      "4                      131.0          NaN                      Documentary   \n",
      "...                      ...          ...                              ...   \n",
      "4911                   637.0          NaN                     Comedy|Drama   \n",
      "4912                   841.0          NaN     Crime|Drama|Mystery|Thriller   \n",
      "4913                     0.0          NaN            Drama|Horror|Thriller   \n",
      "4914                   946.0      10443.0             Comedy|Drama|Romance   \n",
      "4915                    86.0      85222.0                      Documentary   \n",
      "\n",
      "      ... num_user_for_reviews language  country  content_rating       budget  \\\n",
      "0     ...               3054.0  English      USA           PG-13  237000000.0   \n",
      "1     ...               1238.0  English      USA           PG-13  300000000.0   \n",
      "2     ...                994.0  English       UK           PG-13  245000000.0   \n",
      "3     ...               2701.0  English      USA           PG-13  250000000.0   \n",
      "4     ...                  NaN      NaN      NaN             NaN          NaN   \n",
      "...   ...                  ...      ...      ...             ...          ...   \n",
      "4911  ...                  6.0  English   Canada             NaN          NaN   \n",
      "4912  ...                359.0  English      USA           TV-14          NaN   \n",
      "4913  ...                  3.0  English      USA             NaN       1400.0   \n",
      "4914  ...                  9.0  English      USA           PG-13          NaN   \n",
      "4915  ...                 84.0  English      USA              PG       1100.0   \n",
      "\n",
      "      title_year actor_2_facebook_likes imdb_score  aspect_ratio  \\\n",
      "0         2009.0                  936.0        7.9          1.78   \n",
      "1         2007.0                 5000.0        7.1          2.35   \n",
      "2         2015.0                  393.0        6.8          2.35   \n",
      "3         2012.0                23000.0        8.5          2.35   \n",
      "4            NaN                   12.0        7.1           NaN   \n",
      "...          ...                    ...        ...           ...   \n",
      "4911      2013.0                  470.0        7.7           NaN   \n",
      "4912         NaN                  593.0        7.5         16.00   \n",
      "4913      2013.0                    0.0        6.3           NaN   \n",
      "4914      2012.0                  719.0        6.3          2.35   \n",
      "4915      2004.0                   23.0        6.6          1.85   \n",
      "\n",
      "     movie_facebook_likes  \n",
      "0                   33000  \n",
      "1                       0  \n",
      "2                   85000  \n",
      "3                  164000  \n",
      "4                       0  \n",
      "...                   ...  \n",
      "4911                   84  \n",
      "4912                32000  \n",
      "4913                   16  \n",
      "4914                  660  \n",
      "4915                  456  \n",
      "\n",
      "[4916 rows x 28 columns]\n"
     ]
    }
   ],
   "source": [
    "df2 = pd.read_csv('movie.csv')\n",
    "print(df2)"
   ]
  },
  {
   "cell_type": "code",
   "execution_count": null,
   "metadata": {},
   "outputs": [],
   "source": []
  }
 ],
 "metadata": {
  "kernelspec": {
   "display_name": "Python 3",
   "language": "python",
   "name": "python3"
  },
  "language_info": {
   "codemirror_mode": {
    "name": "ipython",
    "version": 3
   },
   "file_extension": ".py",
   "mimetype": "text/x-python",
   "name": "python",
   "nbconvert_exporter": "python",
   "pygments_lexer": "ipython3",
   "version": "3.12.4"
  }
 },
 "nbformat": 4,
 "nbformat_minor": 2
}
